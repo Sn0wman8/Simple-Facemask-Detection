{
 "cells": [
  {
   "cell_type": "markdown",
   "id": "ff2822d3",
   "metadata": {},
   "source": [
    "### Import libraries"
   ]
  },
  {
   "cell_type": "code",
   "execution_count": null,
   "id": "fc05fdab",
   "metadata": {},
   "outputs": [],
   "source": [
    "from pathlib import Path\n",
    "import cv2\n",
    "import numpy as np\n",
    "import pandas as pd\n",
    "from sklearn.model_selection import train_test_split\n",
    "import tensorflow as tf\n",
    "from tensorflow.keras.models import Sequential\n",
    "from tensorflow.keras.layers import Conv2D, MaxPooling2D, Flatten, Dense, Dropout, BatchNormalization, GlobalAveragePooling2D\n",
    "from tensorflow.keras.callbacks import EarlyStopping\n",
    "from sklearn.metrics import classification_report, confusion_matrix\n",
    "import matplotlib.pyplot as plt\n",
    "from sklearn.utils import shuffle\n",
    "import sklearn\n",
    "from tensorflow.keras.preprocessing.image import ImageDataGenerator\n",
    "from sklearn.utils import class_weight\n",
    "import seaborn as sns\n",
    "from tensorflow.keras.callbacks import ReduceLROnPlateau\n",
    "from tensorflow.keras.applications import MobileNetV2\n",
    "from tensorflow.keras.regularizers import l2"
   ]
  },
  {
   "cell_type": "code",
   "execution_count": null,
   "id": "59e8298d",
   "metadata": {},
   "outputs": [],
   "source": [
    "with_mask_dir = Path('../Assignment_2/FMD_DATASET/with_mask')\n",
    "without_mask_dir = Path('../Assignment_2/FMD_DATASET/without_mask')\n",
    "\n"
   ]
  },
  {
   "cell_type": "code",
   "execution_count": null,
   "id": "a275ad27",
   "metadata": {},
   "outputs": [],
   "source": [
    "with_mask_dir.glob(r'*jpg')\n",
    "without_mask_dir.glob(r'*jpg')"
   ]
  },
  {
   "cell_type": "code",
   "execution_count": null,
   "id": "a0f93102",
   "metadata": {},
   "outputs": [],
   "source": [
    "def generate_df(image_path, label):\n",
    "    filepath = pd.Series(list(image_path.glob(r'*jpg')), name = 'Filepath').astype(str)\n",
    "    labels = pd.Series(label, name='Label', index=filepath.index).astype(str)\n",
    "    df = pd.concat([filepath, labels], axis=1)\n",
    "    \n",
    "    return df"
   ]
  },
  {
   "cell_type": "code",
   "execution_count": null,
   "id": "62b9008b",
   "metadata": {},
   "outputs": [],
   "source": [
    "df_mask = generate_df(with_mask_dir,label = 1)\n",
    "df_without_mask = generate_df(without_mask_dir, label = 0)\n",
    "\n",
    "combined_df = pd.concat([df_mask, df_without_mask], axis=0).sample(frac=1.0, random_state=1).reset_index(drop=True)\n",
    "combined_df.head()"
   ]
  },
  {
   "cell_type": "code",
   "execution_count": null,
   "id": "2ac2d289",
   "metadata": {},
   "outputs": [],
   "source": [
    "combined_df.Label.value_counts(normalize=True)\n",
    "\n",
    "train_df, test_df = train_test_split(combined_df, train_size=0.7, shuffle=True, random_state=1)"
   ]
  },
  {
   "cell_type": "code",
   "execution_count": null,
   "id": "dd17d0cf",
   "metadata": {},
   "outputs": [],
   "source": [
    "# Data augmentation\n",
    "train_gen = ImageDataGenerator(\n",
    "    rescale=1./255,\n",
    "    validation_split=.2,\n",
    "    rotation_range=40,\n",
    "    width_shift_range=0.1,\n",
    "    height_shift_range=0.1,\n",
    "    horizontal_flip=True,\n",
    "    fill_mode='nearest'\n",
    ")\n",
    "\n",
    "# test on unseen data\n",
    "test_gen = ImageDataGenerator(\n",
    "    rescale = 1./255\n",
    ")\n",
    "\n",
    "def data_generator(aug_data,df,settype):\n",
    "    data = aug_data.flow_from_dataframe(\n",
    "        df,\n",
    "        x_col='Filepath',\n",
    "        y_col='Label',\n",
    "        target_size=(120, 120),\n",
    "        color_mode='rgb',\n",
    "        class_mode='binary',\n",
    "        batch_size=32,\n",
    "        shuffle=True,\n",
    "        seed=42,\n",
    "        subset=settype\n",
    "        )\n",
    "    return data\n"
   ]
  },
  {
   "cell_type": "code",
   "execution_count": null,
   "id": "5309db80",
   "metadata": {},
   "outputs": [],
   "source": [
    "train_data = data_generator(train_gen,train_df,'training')\n",
    "val_data = data_generator(train_gen,train_df,'validation')\n",
    "test_data = test_gen.flow_from_dataframe(\n",
    "    test_df,\n",
    "    x_col='Filepath',\n",
    "    y_col='Label',\n",
    "    target_size=(120, 120),\n",
    "    color_mode='rgb',\n",
    "    class_mode='binary',\n",
    "    batch_size=32,\n",
    "    shuffle=False,\n",
    "    seed=42\n",
    ")"
   ]
  },
  {
   "cell_type": "code",
   "execution_count": null,
   "id": "f4b4153b",
   "metadata": {
    "scrolled": false
   },
   "outputs": [],
   "source": [
    "# Show augmented images\n",
    "from IPython.display import Image\n",
    "\n",
    "def plotImages(images_arr):\n",
    "    fig, axes = plt.subplots(1, len(images_arr), figsize=(20,20))\n",
    "    axes = axes.flatten()\n",
    "    for img, ax in zip(images_arr, axes):\n",
    "        ax.imshow(img)\n",
    "    plt.tight_layout()\n",
    "    plt.show()\n",
    "    \n",
    "    \n",
    "augmented_images = [train_data[0][0][0] for i in range(4)]\n",
    "plotImages(augmented_images)"
   ]
  },
  {
   "cell_type": "code",
   "execution_count": null,
   "id": "7cf4cffd",
   "metadata": {
    "scrolled": true
   },
   "outputs": [],
   "source": [
    "# Define model\n",
    "model = Sequential()\n",
    "\n",
    "# Input layer\n",
    "model.add(Conv2D(32, (3,3), activation='relu', input_shape=(120, 120, 3)))\n",
    "model.add(MaxPooling2D(2, 2))\n",
    "\n",
    "# 1st Covolutional Layer\n",
    "model.add(Conv2D(64, (3,3), activation='relu'))\n",
    "model.add(MaxPooling2D(2,2))\n",
    "\n",
    "# 2nd Layer\n",
    "model.add(Conv2D(128, (3,3), activation='relu'))\n",
    "model.add(MaxPooling2D(2,2))\n",
    "\n",
    "# 3rd Layer\n",
    "model.add(Conv2D(128, (3,3), activation='relu'))\n",
    "model.add(MaxPooling2D(2,2))\n",
    "\n",
    "# Fully connected layer\n",
    "model.add(Flatten())\n",
    "model.add(Dense(512, activation='relu'))\n",
    "model.add(Dropout(0.5))\n",
    "\n",
    "# Output Layer\n",
    "model.add(Dense(1, activation='sigmoid'))\n",
    "\n",
    "model.summary()"
   ]
  },
  {
   "cell_type": "code",
   "execution_count": null,
   "id": "5605f044",
   "metadata": {},
   "outputs": [],
   "source": [
    "# Compile model\n",
    "model.compile(\n",
    "    optimizer = 'adam',\n",
    "    loss = 'binary_crossentropy',\n",
    "    metrics=['accuracy']\n",
    ")"
   ]
  },
  {
   "cell_type": "code",
   "execution_count": null,
   "id": "5149e42c",
   "metadata": {},
   "outputs": [],
   "source": [
    "# Train the model\n",
    "history = model.fit(\n",
    "    train_data,\n",
    "    epochs=10,\n",
    "    validation_data = val_data\n",
    ")"
   ]
  },
  {
   "cell_type": "code",
   "execution_count": null,
   "id": "40220bec",
   "metadata": {
    "scrolled": true
   },
   "outputs": [],
   "source": [
    "plt.plot(history.history['loss'], label='Training Data')\n",
    "plt.plot(history.history['val_loss'], label='Test Data')\n",
    "plt.ylabel('Loss value')\n",
    "plt.xlabel('No. epoch')\n",
    "plt.legend(loc=\"upper right\")\n",
    "plt.show()"
   ]
  },
  {
   "cell_type": "code",
   "execution_count": null,
   "id": "7747f512",
   "metadata": {
    "scrolled": true
   },
   "outputs": [],
   "source": [
    "plt.plot(history.history['accuracy'], label='Training Data')\n",
    "plt.plot(history.history['val_accuracy'], label='Test Data')\n",
    "plt.title('model accuracy')\n",
    "plt.ylabel('accuracy')\n",
    "plt.xlabel('epoch')\n",
    "plt.legend(loc='lower right')\n",
    "plt.show()"
   ]
  },
  {
   "cell_type": "code",
   "execution_count": null,
   "id": "9c401c30",
   "metadata": {
    "scrolled": true
   },
   "outputs": [],
   "source": [
    "# Evaluate and display results\n",
    "predictions = model.predict(test_data)\n",
    "predicted_labels = np.round(predictions).astype(int)\n",
    "true_labels = test_data.classes\n",
    "\n",
    "cm = confusion_matrix(true_labels, predicted_labels)\n",
    "print(\"Confusion Matrix:\")\n",
    "print(cm)\n",
    "\n",
    "# Calculate metrics\n",
    "cr = classification_report(true_labels, predicted_labels, target_names=['Class 0', 'Class 1'])\n",
    "print(\"Classification Report:\", cr)"
   ]
  },
  {
   "cell_type": "code",
   "execution_count": null,
   "id": "2bc35f1a",
   "metadata": {
    "scrolled": true
   },
   "outputs": [],
   "source": [
    "# Plot the confusion matrix\n",
    "plt.figure(figsize=(8, 6))\n",
    "sns.heatmap(cm, annot=True, fmt='d', cmap='Blues', \n",
    "            xticklabels=['Class 0', 'Class 1'], \n",
    "            yticklabels=['Class 0', 'Class 1'])\n",
    "plt.xlabel('Predicted Labels')\n",
    "plt.ylabel('True Labels')\n",
    "plt.title('Confusion Matrix')\n",
    "plt.show()"
   ]
  },
  {
   "cell_type": "code",
   "execution_count": null,
   "id": "91f1b53f",
   "metadata": {},
   "outputs": [],
   "source": [
    "# Load the model (ensure you have the correct path to your model file)\n",
    "model = tf.keras.models.load_model(\"facemask_detection_model.h5\")\n",
    "\n",
    "# Function to preprocess the input image\n",
    "def preprocess_image(img_path, target_size=(120, 120)):\n",
    "    img = cv2.imread(img_path)  # Load the JPEG image\n",
    "    img = cv2.cvtColor(img, cv2.COLOR_BGR2RGB)  # Convert from BGR (OpenCV default) to RGB\n",
    "    img = cv2.resize(img, target_size)  # Resize to model's input shape\n",
    "    img = np.expand_dims(img, axis=0)  # Add batch dimension\n",
    "    img = img / 255.0  # Normalize pixel values to [0, 1]\n",
    "    return img\n",
    "\n",
    "# Function to predict the mask status and print probabilities\n",
    "def predict_mask(img_path):\n",
    "    img = preprocess_image(img_path)\n",
    "    prediction = model.predict(img)\n",
    "    print(f\"Prediction probability: {prediction[0]}\")  # Print the probability value\n",
    "    result = \"Mask\" if prediction[0] > 0.5 else \"No Mask\"\n",
    "    return result"
   ]
  },
  {
   "cell_type": "code",
   "execution_count": null,
   "id": "3a9d7b39",
   "metadata": {},
   "outputs": [],
   "source": [
    "# Test the model with an image\n",
    "img_path = \"../Assignment_2/FMD_DATASET/no_mask_kangkor/complex17.jpg\"\n",
    "result = predict_mask(img_path)\n",
    "print(f\"The predicted result is: {result}\")"
   ]
  }
 ],
 "metadata": {
  "kernelspec": {
   "display_name": "Python 3 (ipykernel)",
   "language": "python",
   "name": "python3"
  },
  "language_info": {
   "codemirror_mode": {
    "name": "ipython",
    "version": 3
   },
   "file_extension": ".py",
   "mimetype": "text/x-python",
   "name": "python",
   "nbconvert_exporter": "python",
   "pygments_lexer": "ipython3",
   "version": "3.10.16"
  }
 },
 "nbformat": 4,
 "nbformat_minor": 5
}
